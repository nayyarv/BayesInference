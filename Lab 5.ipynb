{
 "cells": [
  {
   "cell_type": "code",
   "execution_count": 5,
   "metadata": {
    "collapsed": true
   },
   "outputs": [],
   "source": [
    "#setup\n",
    "from scipy.stats import norm, beta, gamma\n",
    "import numpy as np\n",
    "from matplotlib import pyplot as plt\n",
    "plt.style.use(['ggplot'])#, 'fivethirtyeight'])\n",
    "%matplotlib inline"
   ]
  },
  {
   "cell_type": "code",
   "execution_count": 11,
   "metadata": {
    "collapsed": false
   },
   "outputs": [
    {
     "data": {
      "text/plain": [
       "3.11744254884997"
      ]
     },
     "execution_count": 11,
     "metadata": {},
     "output_type": "execute_result"
    }
   ],
   "source": [
    "class Gibbs:\n",
    "    \n",
    "    #prior parameters of mean, mu\n",
    "    xi = 5\n",
    "    kappa = 2\n",
    "\n",
    "    # prior of 1/variance, 1/sigma^2\n",
    "    alpha = 1\n",
    "    priorBeta = 2\n",
    "    \n",
    "    # the data we're working with\n",
    "    xMean = 5\n",
    "    xSigma = 2\n",
    "    xsamp = norm.rvs(xMean, xSigma, 50)\n",
    "\n",
    "    def gibbsThis(self, MCruns = 1000):\n",
    "        \n",
    "        # create zero arrays first to store the steps\n",
    "        gibbsMus = np.zeros(MCruns)\n",
    "        gibbsSigmas = np.zeros(MCruns)\n",
    "        \n",
    "        # set initial starting points\n",
    "        gibbsMus[0]=1\n",
    "        gibbsSigmas[0]=1 \n",
    "        \n",
    "        for i in range(1, MCruns):\n",
    "            gibbsMus[i] = self.marginalMu(gibbsSigmas[i-1])\n",
    "            gibbsSigmas[i] = self.marginalSigmaSqInv(gibbsMus[i])\n",
    "            \n",
    "        return gibbsMus, gibbsSigmas\n",
    "        \n",
    "    def marginalMu(self, sigmaSqInv):\n",
    "        distMu = (np.sqrt(sigmaSqInv) * self.xsamp.sum() + self.kappa * self.xi) \\\n",
    "        / (sigmaSqInv*len(self.xsamp)+self.kappa)\n",
    "        distVar = 1/ (sigmaSqInv*len(self.xsamp)+self.kappa)\n",
    "        \n",
    "        return norm.rvs(distMu, np.sqrt(distVar))\n",
    "    \n",
    "    def marginalSigmaSqInv(self, mu):\n",
    "        distAlpha = self.alpha + len(xsamp)/2\n",
    "        distBeta = self.priorBeta + 0.5*(self.xsamp-mu)**2\n",
    "        return beta.rvs(distAlpha, distBeta)\n",
    "    \n",
    "\n",
    "g = Gibbs()\n",
    "g.marginalMu(3)"
   ]
  },
  {
   "cell_type": "code",
   "execution_count": 1,
   "metadata": {
    "collapsed": true
   },
   "outputs": [],
   "source": []
  },
  {
   "cell_type": "code",
   "execution_count": 2,
   "metadata": {
    "collapsed": false
   },
   "outputs": [
    {
     "data": {
      "text/plain": [
       "3"
      ]
     },
     "execution_count": 2,
     "metadata": {},
     "output_type": "execute_result"
    }
   ],
   "source": []
  },
  {
   "cell_type": "code",
   "execution_count": null,
   "metadata": {
    "collapsed": true
   },
   "outputs": [],
   "source": []
  }
 ],
 "metadata": {
  "kernelspec": {
   "display_name": "Python 3",
   "language": "python",
   "name": "python3"
  },
  "language_info": {
   "codemirror_mode": {
    "name": "ipython",
    "version": 3
   },
   "file_extension": ".py",
   "mimetype": "text/x-python",
   "name": "python",
   "nbconvert_exporter": "python",
   "pygments_lexer": "ipython3",
   "version": "3.4.3"
  }
 },
 "nbformat": 4,
 "nbformat_minor": 0
}
